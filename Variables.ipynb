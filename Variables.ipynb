{
 "cells": [
  {
   "cell_type": "code",
   "execution_count": 3,
   "id": "3e5fdbf5-b571-4aee-84c1-55c6c3c8a1ee",
   "metadata": {},
   "outputs": [
    {
     "name": "stdout",
     "output_type": "stream",
     "text": [
      "age: 32\n",
      "Height: 6.1\n",
      "Name: Shweta\n"
     ]
    }
   ],
   "source": [
    "# Declaring and assigning variables\n",
    "\n",
    "age=32\n",
    "height=6.1\n",
    "name=\"Shweta\"\n",
    "is_student=True\n",
    "\n",
    "# Printing the variables\n",
    "print(\"age:\", age)\n",
    "print(\"Height:\", height)\n",
    "print(\"Name:\",name)"
   ]
  },
  {
   "cell_type": "markdown",
   "id": "7c3de12b-83b1-4e03-9ee0-0d65d9d77594",
   "metadata": {},
   "source": [
    "#### Naming convention\n",
    "- Variable names should be descriptive\n",
    "- They must start with a letter or an '_' and contains letter, numbers, and underscores"
   ]
  },
  {
   "cell_type": "code",
   "execution_count": 7,
   "id": "c28b01c7-a988-4900-98cc-debf8b63e480",
   "metadata": {},
   "outputs": [],
   "source": [
    "# Valid Variable names\n",
    "first_name=\"Shweta\"\n",
    "last_name=\"Raut\""
   ]
  },
  {
   "cell_type": "code",
   "execution_count": null,
   "id": "d896fd8f-0cdb-454e-8cca-251321fbcfad",
   "metadata": {},
   "outputs": [],
   "source": [
    "#Invalid Variable Names\n",
    "2age=30\n",
    "first-name=\"Krish\"\n",
    "@name=\"Krish\""
   ]
  },
  {
   "cell_type": "code",
   "execution_count": 9,
   "id": "9d4ff706-f9a1-431e-9a79-ee0dd2f0d336",
   "metadata": {},
   "outputs": [
    {
     "name": "stdout",
     "output_type": "stream",
     "text": [
      "<class 'int'>\n",
      "<class 'float'>\n",
      "<class 'str'>\n",
      "<class 'bool'>\n"
     ]
    }
   ],
   "source": [
    "# Understanding Variable Types\n",
    "# Python is dynamically typed, type of variable is determined at runtime\n",
    "age=25\n",
    "height=6.1\n",
    "name=\"Krish\"\n",
    "is_student=True\n",
    "\n",
    "print(type(age))\n",
    "print(type(height))\n",
    "print(type(name))\n",
    "print(type(is_student))"
   ]
  },
  {
   "cell_type": "code",
   "execution_count": 11,
   "id": "99980665-8832-4190-b5f4-83343adcbfe2",
   "metadata": {},
   "outputs": [
    {
     "data": {
      "text/plain": [
       "float"
      ]
     },
     "execution_count": 11,
     "metadata": {},
     "output_type": "execute_result"
    }
   ],
   "source": [
    "# Type checking and Conversation\n",
    "type(height)"
   ]
  },
  {
   "cell_type": "code",
   "execution_count": 15,
   "id": "22691bb7-9c6b-48c9-a62f-6bb6fe7749b4",
   "metadata": {},
   "outputs": [
    {
     "name": "stdout",
     "output_type": "stream",
     "text": [
      "<class 'int'>\n",
      "25\n",
      "<class 'str'>\n"
     ]
    }
   ],
   "source": [
    "age=25\n",
    "print(type(age))\n",
    "\n",
    "# Type Conversion\n",
    "age_str=str(age)\n",
    "print(age_str)\n",
    "print(type(age_str))\n"
   ]
  },
  {
   "cell_type": "code",
   "execution_count": 19,
   "id": "4ae07373-18a9-4a13-93a1-2445764b44ef",
   "metadata": {},
   "outputs": [
    {
     "name": "stdout",
     "output_type": "stream",
     "text": [
      "<class 'int'>\n"
     ]
    }
   ],
   "source": [
    "age='25'\n",
    "print(type(int(age)))"
   ]
  },
  {
   "cell_type": "code",
   "execution_count": 21,
   "id": "8976275f-89f7-4bda-94ca-f36f4027424a",
   "metadata": {},
   "outputs": [
    {
     "data": {
      "text/plain": [
       "float"
      ]
     },
     "execution_count": 21,
     "metadata": {},
     "output_type": "execute_result"
    }
   ],
   "source": [
    "height=5.11\n",
    "type(height)"
   ]
  },
  {
   "cell_type": "code",
   "execution_count": 23,
   "id": "03ad8172-a140-4814-9582-edf0104f556f",
   "metadata": {},
   "outputs": [
    {
     "data": {
      "text/plain": [
       "5"
      ]
     },
     "execution_count": 23,
     "metadata": {},
     "output_type": "execute_result"
    }
   ],
   "source": [
    "int(height)"
   ]
  },
  {
   "cell_type": "code",
   "execution_count": 27,
   "id": "e7c275fe-888b-4383-a857-a0a868f6d335",
   "metadata": {},
   "outputs": [
    {
     "data": {
      "text/plain": [
       "5.0"
      ]
     },
     "execution_count": 27,
     "metadata": {},
     "output_type": "execute_result"
    }
   ],
   "source": [
    "float(int(height))"
   ]
  },
  {
   "cell_type": "code",
   "execution_count": 31,
   "id": "d2086639-90c3-449f-b4c4-adc8d26e41ad",
   "metadata": {},
   "outputs": [
    {
     "name": "stdout",
     "output_type": "stream",
     "text": [
      "10 <class 'int'>\n",
      "Hello <class 'str'>\n",
      "3.14 <class 'float'>\n"
     ]
    }
   ],
   "source": [
    "# Dynamic Typing\n",
    "# Python allows the type of a variable to change as the program executes\n",
    "var=10\n",
    "print(var,type(var))\n",
    "\n",
    "var=\"Hello\"\n",
    "print(var,type(var))\n",
    "\n",
    "var=3.14\n",
    "print(var,type(var))"
   ]
  },
  {
   "cell_type": "code",
   "execution_count": 33,
   "id": "c89e356a-9795-4cbf-b016-10bfd12a5dcd",
   "metadata": {},
   "outputs": [
    {
     "name": "stdin",
     "output_type": "stream",
     "text": [
      "What is the age 25\n"
     ]
    },
    {
     "name": "stdout",
     "output_type": "stream",
     "text": [
      "25 <class 'int'>\n"
     ]
    }
   ],
   "source": [
    "# Input User\n",
    "age=int(input(\"What is the age\"))\n",
    "print(age,type(age))\n"
   ]
  },
  {
   "cell_type": "markdown",
   "id": "504ef794-1f08-43d5-bdd6-fb3488e8b4c7",
   "metadata": {},
   "source": [
    "#### Simple Calculator"
   ]
  },
  {
   "cell_type": "code",
   "execution_count": 36,
   "id": "da294013-3831-4497-a289-48720bb0ff23",
   "metadata": {},
   "outputs": [
    {
     "name": "stdin",
     "output_type": "stream",
     "text": [
      "Enter first Number: 7\n",
      "Enter Second Number: 15\n"
     ]
    },
    {
     "name": "stdout",
     "output_type": "stream",
     "text": [
      "Sum 22.0\n",
      "Difference -8.0\n",
      "Product 105.0\n",
      "Quotient 0.4666666666666667\n"
     ]
    }
   ],
   "source": [
    "num1 = float(input(\"Enter first Number:\"))\n",
    "num2 = float(input(\"Enter Second Number:\"))\n",
    "\n",
    "sum = num1 + num2\n",
    "difference = num1 - num2\n",
    "product = num1 * num2\n",
    "quotient = num1 / num2\n",
    "\n",
    "print(\"Sum\", sum)\n",
    "print(\"Difference\",difference)\n",
    "print(\"Product\", product)\n",
    "print(\"Quotient\", quotient)"
   ]
  },
  {
   "cell_type": "code",
   "execution_count": null,
   "id": "5b06c298-a9c0-4731-8f45-3cd302531b82",
   "metadata": {},
   "outputs": [],
   "source": []
  }
 ],
 "metadata": {
  "kernelspec": {
   "display_name": "Python 3 (ipykernel)",
   "language": "python",
   "name": "python3"
  },
  "language_info": {
   "codemirror_mode": {
    "name": "ipython",
    "version": 3
   },
   "file_extension": ".py",
   "mimetype": "text/x-python",
   "name": "python",
   "nbconvert_exporter": "python",
   "pygments_lexer": "ipython3",
   "version": "3.12.4"
  }
 },
 "nbformat": 4,
 "nbformat_minor": 5
}
