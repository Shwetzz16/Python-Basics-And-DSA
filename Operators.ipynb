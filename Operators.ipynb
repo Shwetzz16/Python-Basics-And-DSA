{
 "cells": [
  {
   "cell_type": "markdown",
   "id": "0f2e40ad-e197-4eca-826b-d29f0e7a9f71",
   "metadata": {},
   "source": [
    "#### Operators"
   ]
  },
  {
   "cell_type": "code",
   "execution_count": 10,
   "id": "b4b88674-e3d7-4016-8c6e-31b7000a3e2a",
   "metadata": {},
   "outputs": [
    {
     "name": "stdout",
     "output_type": "stream",
     "text": [
      "15\n",
      "5\n",
      "50\n",
      "2.0\n",
      "2\n",
      "0\n",
      "100000\n"
     ]
    }
   ],
   "source": [
    "# Arithematic Operation\n",
    "a=10\n",
    "b=5\n",
    "add_result=a+b\n",
    "sub_result=a-b\n",
    "mult_result=a*b\n",
    "div_result=a/b\n",
    "floor_div_result=a//b\n",
    "modulus_result=a%b\n",
    "exponent_result=a**b\n",
    "print(add_result)\n",
    "print(sub_result)\n",
    "print(mult_result)\n",
    "print(div_result)\n",
    "print(floor_div_result)\n",
    "print(modulus_result)\n",
    "print(exponent_result)"
   ]
  },
  {
   "cell_type": "markdown",
   "id": "0e65199a-1d35-422d-9657-825f50d11b4a",
   "metadata": {},
   "source": [
    "#### Comparision Operator"
   ]
  },
  {
   "cell_type": "code",
   "execution_count": 12,
   "id": "7245d310-8728-41fe-a19a-7efd1d372b41",
   "metadata": {},
   "outputs": [
    {
     "data": {
      "text/plain": [
       "True"
      ]
     },
     "execution_count": 12,
     "metadata": {},
     "output_type": "execute_result"
    }
   ],
   "source": [
    "\n",
    "# ==(equal to operator)\n",
    "a=10\n",
    "b=10\n",
    "a==b"
   ]
  },
  {
   "cell_type": "code",
   "execution_count": 16,
   "id": "33fcaff3-e8c4-433f-a262-482fbeaf39bd",
   "metadata": {},
   "outputs": [
    {
     "data": {
      "text/plain": [
       "True"
      ]
     },
     "execution_count": 16,
     "metadata": {},
     "output_type": "execute_result"
    }
   ],
   "source": [
    "str1=\"Shweta\"\n",
    "str2=\"Shweta\"\n",
    "str1==str2"
   ]
  },
  {
   "cell_type": "code",
   "execution_count": 18,
   "id": "0d820324-5caa-409e-b791-edc50b073149",
   "metadata": {},
   "outputs": [
    {
     "data": {
      "text/plain": [
       "False"
      ]
     },
     "execution_count": 18,
     "metadata": {},
     "output_type": "execute_result"
    }
   ],
   "source": [
    "# != (Not equal to)\n",
    "str1!=str2"
   ]
  },
  {
   "cell_type": "code",
   "execution_count": 20,
   "id": "deb1bdf4-88d1-4357-8e9d-15d37cc18307",
   "metadata": {},
   "outputs": [
    {
     "data": {
      "text/plain": [
       "True"
      ]
     },
     "execution_count": 20,
     "metadata": {},
     "output_type": "execute_result"
    }
   ],
   "source": [
    "str3=\"Shweta\"\n",
    "str4=\"shweta\"\n",
    "str3!=str4"
   ]
  },
  {
   "cell_type": "code",
   "execution_count": 22,
   "id": "15a8700f-77da-4584-bbc6-9409b09a5c83",
   "metadata": {},
   "outputs": [
    {
     "data": {
      "text/plain": [
       "False"
      ]
     },
     "execution_count": 22,
     "metadata": {},
     "output_type": "execute_result"
    }
   ],
   "source": [
    "# >(greater than)\n",
    "num1=45\n",
    "num2=55\n",
    "\n",
    "num1>num2"
   ]
  },
  {
   "cell_type": "code",
   "execution_count": 24,
   "id": "3d064b5c-ffba-470d-8d3c-6751da584155",
   "metadata": {},
   "outputs": [
    {
     "data": {
      "text/plain": [
       "True"
      ]
     },
     "execution_count": 24,
     "metadata": {},
     "output_type": "execute_result"
    }
   ],
   "source": [
    "# <(less than)\n",
    "num1<num2"
   ]
  },
  {
   "cell_type": "code",
   "execution_count": 26,
   "id": "7ffcdbc9-07ac-4106-8f90-c7e7b35d48b9",
   "metadata": {},
   "outputs": [
    {
     "data": {
      "text/plain": [
       "True"
      ]
     },
     "execution_count": 26,
     "metadata": {},
     "output_type": "execute_result"
    }
   ],
   "source": [
    "# greater than or equal to\n",
    "number1=45\n",
    "number2=45\n",
    "number1>=number2"
   ]
  },
  {
   "cell_type": "code",
   "execution_count": 28,
   "id": "a7b3d131-fbc3-4eef-a358-672bd5ceea9d",
   "metadata": {},
   "outputs": [
    {
     "data": {
      "text/plain": [
       "True"
      ]
     },
     "execution_count": 28,
     "metadata": {},
     "output_type": "execute_result"
    }
   ],
   "source": [
    "# less than or equal to\n",
    "number1=45\n",
    "number2=45\n",
    "number1<=number2"
   ]
  },
  {
   "cell_type": "markdown",
   "id": "42f9a57a-ceb1-41a4-a77f-52ce044d7766",
   "metadata": {},
   "source": [
    "#### Logical Operators"
   ]
  },
  {
   "cell_type": "code",
   "execution_count": 31,
   "id": "d457e926-dc10-47b0-a9e3-293cebe8af5d",
   "metadata": {},
   "outputs": [
    {
     "name": "stdout",
     "output_type": "stream",
     "text": [
      "True\n"
     ]
    }
   ],
   "source": [
    "## And, Not, OR\n",
    "X=True\n",
    "Y= True\n",
    "\n",
    "result= X and Y\n",
    "print(result)"
   ]
  },
  {
   "cell_type": "code",
   "execution_count": 33,
   "id": "2abc4a70-5417-40ab-9722-4b3278e763bf",
   "metadata": {},
   "outputs": [
    {
     "name": "stdout",
     "output_type": "stream",
     "text": [
      "False\n"
     ]
    }
   ],
   "source": [
    "X=True\n",
    "Y= False\n",
    "\n",
    "result= X and Y\n",
    "print(result)"
   ]
  },
  {
   "cell_type": "code",
   "execution_count": 35,
   "id": "358a1831-af25-4ec7-bd45-f66e43d759e9",
   "metadata": {},
   "outputs": [
    {
     "name": "stdout",
     "output_type": "stream",
     "text": [
      "False\n"
     ]
    }
   ],
   "source": [
    "# OR\n",
    "X=False\n",
    "Y= False\n",
    "\n",
    "result= X or Y\n",
    "print(result)"
   ]
  },
  {
   "cell_type": "code",
   "execution_count": 37,
   "id": "11e2503e-f63f-4510-b14e-9b2ffb8c1df7",
   "metadata": {},
   "outputs": [
    {
     "name": "stdout",
     "output_type": "stream",
     "text": [
      "True\n"
     ]
    }
   ],
   "source": [
    "X=True\n",
    "Y= False\n",
    "\n",
    "result= X or Y\n",
    "print(result)"
   ]
  },
  {
   "cell_type": "code",
   "execution_count": 39,
   "id": "ac480ad8-38dc-46c7-8585-bd42af4c9161",
   "metadata": {},
   "outputs": [
    {
     "data": {
      "text/plain": [
       "False"
      ]
     },
     "execution_count": 39,
     "metadata": {},
     "output_type": "execute_result"
    }
   ],
   "source": [
    "# Not Operator\n",
    "X=True\n",
    "not X\n"
   ]
  },
  {
   "cell_type": "code",
   "execution_count": null,
   "id": "5431390c-e12b-4bd6-a89a-b11a063a66c5",
   "metadata": {},
   "outputs": [],
   "source": []
  }
 ],
 "metadata": {
  "kernelspec": {
   "display_name": "Python 3 (ipykernel)",
   "language": "python",
   "name": "python3"
  },
  "language_info": {
   "codemirror_mode": {
    "name": "ipython",
    "version": 3
   },
   "file_extension": ".py",
   "mimetype": "text/x-python",
   "name": "python",
   "nbconvert_exporter": "python",
   "pygments_lexer": "ipython3",
   "version": "3.12.4"
  }
 },
 "nbformat": 4,
 "nbformat_minor": 5
}
