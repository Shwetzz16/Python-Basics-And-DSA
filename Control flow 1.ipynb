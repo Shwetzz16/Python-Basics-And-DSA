{
 "cells": [
  {
   "cell_type": "markdown",
   "id": "6a0cf19a-ec9d-4261-926a-0f704744a641",
   "metadata": {},
   "source": [
    "### Conditional Statements(if,elif,else)"
   ]
  },
  {
   "cell_type": "markdown",
   "id": "10a7ff00-f71b-4c1d-8a31-ed12fc3d2e54",
   "metadata": {},
   "source": [
    "#### if statement"
   ]
  },
  {
   "cell_type": "code",
   "execution_count": 4,
   "id": "d4ed7b41-6b47-4989-b89b-81730fb6de53",
   "metadata": {},
   "outputs": [
    {
     "name": "stdout",
     "output_type": "stream",
     "text": [
      " You are allowed to vote in the election\n"
     ]
    }
   ],
   "source": [
    "age=20\n",
    "\n",
    "if age>=18:\n",
    "    print(\" You are allowed to vote in the election\")"
   ]
  },
  {
   "cell_type": "markdown",
   "id": "af6dd62f-e66d-437f-9f1c-8ef61457abee",
   "metadata": {},
   "source": [
    "#### else statement"
   ]
  },
  {
   "cell_type": "markdown",
   "id": "d75a6b43-87df-48c5-a758-077ea9bb4b1b",
   "metadata": {},
   "source": [
    "The else statement executes a block of code if the condition in the if statement is False."
   ]
  },
  {
   "cell_type": "code",
   "execution_count": 11,
   "id": "b86b0306-9810-42a5-8e87-2023c3ac871b",
   "metadata": {},
   "outputs": [
    {
     "name": "stdout",
     "output_type": "stream",
     "text": [
      "You are a minor\n"
     ]
    }
   ],
   "source": [
    "age=16\n",
    "if age>=18:\n",
    "    print(\"You are eligible for voting\")\n",
    "else:\n",
    "    print(\"You are a minor\")"
   ]
  },
  {
   "cell_type": "markdown",
   "id": "a339eb96-2de8-4d8d-b2bb-83106439d246",
   "metadata": {},
   "source": [
    "#### elif statement"
   ]
  },
  {
   "cell_type": "markdown",
   "id": "8b13705d-7604-4726-9238-31b8e0d09909",
   "metadata": {},
   "source": [
    "The elif statement allows you to check multiple conditions. It stands for \"else if\""
   ]
  },
  {
   "cell_type": "code",
   "execution_count": 15,
   "id": "69926da8-0559-450e-badf-8e4ce92ca719",
   "metadata": {},
   "outputs": [
    {
     "name": "stdout",
     "output_type": "stream",
     "text": [
      "You are an adult\n"
     ]
    }
   ],
   "source": [
    "age=20\n",
    "if age<13:\n",
    "    print(\"You are a child\")\n",
    "elif age<18:\n",
    "    print(\"You are a teenager\")\n",
    "else:\n",
    "    print(\"You are an adult\")"
   ]
  },
  {
   "cell_type": "markdown",
   "id": "f245316a-7afa-4beb-9d5e-40b57f0744bd",
   "metadata": {},
   "source": [
    "#### Nested Conditional Statement"
   ]
  },
  {
   "cell_type": "markdown",
   "id": "7062d758-328c-4d13-9256-668b52372ee5",
   "metadata": {},
   "source": [
    "You can place one or more if, else, elif statement inside another if, elif, or else statement to create nested conditional statement."
   ]
  },
  {
   "cell_type": "code",
   "execution_count": 22,
   "id": "6d7a0e94-fded-4648-842c-af3c8e065ca8",
   "metadata": {},
   "outputs": [
    {
     "name": "stdin",
     "output_type": "stream",
     "text": [
      "Enter the number -5\n"
     ]
    },
    {
     "name": "stdout",
     "output_type": "stream",
     "text": [
      "The number is zero or negative\n"
     ]
    }
   ],
   "source": [
    "# Number is even,odd,negative\n",
    "num=int(input(\"Enter the number\"))\n",
    "\n",
    "if num>0:\n",
    "    print(\"The number number is positive\")\n",
    "    if num%2==0:\n",
    "        print(\"The number is even\")\n",
    "    else:\n",
    "        print(\"The number is odd\")\n",
    "else:\n",
    "    print(\"The number is zero or negative\")"
   ]
  },
  {
   "cell_type": "markdown",
   "id": "92776d9f-272e-4da3-9407-78ab317bcf83",
   "metadata": {},
   "source": [
    "#### Practical Example"
   ]
  },
  {
   "cell_type": "code",
   "execution_count": 27,
   "id": "d0595712-f069-4251-9b60-8065997693f7",
   "metadata": {},
   "outputs": [
    {
     "name": "stdin",
     "output_type": "stream",
     "text": [
      "Enter the year: 2000\n"
     ]
    },
    {
     "name": "stdout",
     "output_type": "stream",
     "text": [
      "2000  year is leap year\n"
     ]
    }
   ],
   "source": [
    "# Determine if a year is a leap year using nested condition statement\n",
    "year=int(input(\"Enter the year:\"))\n",
    "\n",
    "if year%4==0:\n",
    "    if year%400==0:\n",
    "        if year%100==0:\n",
    "            print(year,\" year is leap year\")\n",
    "        else:\n",
    "            print(year,\" is not a leap year\")\n",
    "    else:\n",
    "        print(year,\" is not a leap year\")\n",
    "else:\n",
    "     print(year,\" is not a leap year\")\n",
    "\n",
    "\n"
   ]
  },
  {
   "cell_type": "code",
   "execution_count": 33,
   "id": "c86c4ad1-f03c-48e4-9bd7-ca027b532297",
   "metadata": {},
   "outputs": [
    {
     "name": "stdin",
     "output_type": "stream",
     "text": [
      "Enter first number: 14\n",
      "Enter second number: 7\n",
      "Enter operation(+,-,*,/): +\n"
     ]
    },
    {
     "name": "stdout",
     "output_type": "stream",
     "text": [
      "Result: 21.0\n"
     ]
    }
   ],
   "source": [
    "# Simple Calculator Program\n",
    "# Take user input\n",
    "num1 = float(input(\"Enter first number:\"))\n",
    "num2 = float(input(\"Enter second number:\"))\n",
    "operation = input(\"Enter operation(+,-,*,/):\")\n",
    "\n",
    "# perform the requested operation\n",
    "if operation == '+':\n",
    "    result = num1 +num2\n",
    "elif operation == '-':\n",
    "    result = num1 - num2\n",
    "elif operation == '*':\n",
    "    result = num1 * num2\n",
    "elif operation == '/':\n",
    "    if num2 != 0:\n",
    "        result = num1/num2\n",
    "    else:\n",
    "        result=\"Error! Division by zero.\"\n",
    "else:\n",
    "    result = \"Invalid operation.\"\n",
    "print(\"Result:\", result)"
   ]
  },
  {
   "cell_type": "code",
   "execution_count": null,
   "id": "64f9765d-b274-4b1d-8b0e-fa53f52e43c1",
   "metadata": {},
   "outputs": [],
   "source": []
  }
 ],
 "metadata": {
  "kernelspec": {
   "display_name": "Python 3 (ipykernel)",
   "language": "python",
   "name": "python3"
  },
  "language_info": {
   "codemirror_mode": {
    "name": "ipython",
    "version": 3
   },
   "file_extension": ".py",
   "mimetype": "text/x-python",
   "name": "python",
   "nbconvert_exporter": "python",
   "pygments_lexer": "ipython3",
   "version": "3.12.4"
  }
 },
 "nbformat": 4,
 "nbformat_minor": 5
}
